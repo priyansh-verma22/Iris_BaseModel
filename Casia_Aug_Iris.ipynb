{
  "cells": [
    {
      "cell_type": "code",
      "execution_count": 1,
      "metadata": {
        "id": "uOq60nDjH_zz"
      },
      "outputs": [],
      "source": [
        "import zipfile\n",
        "import os\n",
        "\n",
        "zip_path = \"/content/CASIA-Iris-Interval-20250617T034139Z-1-001.zip\"  # Replace with your actual filename\n",
        "with zipfile.ZipFile(zip_path, 'r') as zip_ref:\n",
        "    zip_ref.extractall(\"unzipped_Iris-Interval\")"
      ]
    },
    {
      "cell_type": "code",
      "execution_count": 6,
      "metadata": {
        "id": "0pOCSpJfd94J"
      },
      "outputs": [],
      "source": [
        "import os\n",
        "import shutil\n",
        "import random\n",
        "\n",
        "def get_all_images_recursive(class_path):\n",
        "    images = []\n",
        "    for root, _, files in os.walk(class_path):\n",
        "        for file in files:\n",
        "            if file.lower().endswith(('.jpg', '.jpeg', '.png')):\n",
        "                images.append(os.path.join(root, file))\n",
        "    return images\n",
        "\n",
        "def split_dataset(input_dir, output_dir, train_ratio=0.625, val_ratio=0.25, test_ratio=0.125):\n",
        "    os.makedirs(output_dir, exist_ok=True)\n",
        "    class_names = os.listdir(input_dir)\n",
        "\n",
        "    for class_name in class_names:\n",
        "        class_path = os.path.join(input_dir, class_name)\n",
        "        if not os.path.isdir(class_path):\n",
        "            continue\n",
        "\n",
        "        images = get_all_images_recursive(class_path)\n",
        "        random.shuffle(images)\n",
        "\n",
        "        total = len(images)\n",
        "        train_end = int(train_ratio * total)\n",
        "        val_end = train_end + int(val_ratio * total)\n",
        "\n",
        "        train_imgs = images[:train_end]\n",
        "        val_imgs = images[train_end:val_end]\n",
        "        test_imgs = images[val_end:]\n",
        "\n",
        "        for split_name, split_imgs in zip(['train', 'val', 'test'], [train_imgs, val_imgs, test_imgs]):\n",
        "            split_dir = os.path.join(output_dir, split_name, class_name)\n",
        "            os.makedirs(split_dir, exist_ok=True)\n",
        "\n",
        "            for img_path in split_imgs:\n",
        "                img_name = os.path.basename(img_path)\n",
        "                dst = os.path.join(split_dir, img_name)\n",
        "                shutil.copy2(img_path, dst)\n",
        "\n",
        "# ✅ Update your dataset paths\n",
        "input_dataset_folder = \"/content/unzipped_Iris-Interval/CASIA-Iris-Interval\"\n",
        "output_dataset_folder = \"/content/split_dataset\"\n",
        "\n",
        "# ✅ Run\n",
        "split_dataset(input_dataset_folder, output_dataset_folder)\n"
      ]
    },
    {
      "cell_type": "code",
      "execution_count": null,
      "metadata": {
        "colab": {
          "base_uri": "https://localhost:8080/"
        },
        "id": "y4sA2s4ceNmm",
        "outputId": "e9cf44c4-6f6c-490d-db88-2d180779f8d7"
      },
      "outputs": [
        {
          "name": "stdout",
          "output_type": "stream",
          "text": [
            "Requirement already satisfied: tensorflow in /usr/local/lib/python3.11/dist-packages (2.18.0)\n",
            "Requirement already satisfied: absl-py>=1.0.0 in /usr/local/lib/python3.11/dist-packages (from tensorflow) (1.4.0)\n",
            "Requirement already satisfied: astunparse>=1.6.0 in /usr/local/lib/python3.11/dist-packages (from tensorflow) (1.6.3)\n",
            "Requirement already satisfied: flatbuffers>=24.3.25 in /usr/local/lib/python3.11/dist-packages (from tensorflow) (25.2.10)\n",
            "Requirement already satisfied: gast!=0.5.0,!=0.5.1,!=0.5.2,>=0.2.1 in /usr/local/lib/python3.11/dist-packages (from tensorflow) (0.6.0)\n",
            "Requirement already satisfied: google-pasta>=0.1.1 in /usr/local/lib/python3.11/dist-packages (from tensorflow) (0.2.0)\n",
            "Requirement already satisfied: libclang>=13.0.0 in /usr/local/lib/python3.11/dist-packages (from tensorflow) (18.1.1)\n",
            "Requirement already satisfied: opt-einsum>=2.3.2 in /usr/local/lib/python3.11/dist-packages (from tensorflow) (3.4.0)\n",
            "Requirement already satisfied: packaging in /usr/local/lib/python3.11/dist-packages (from tensorflow) (24.2)\n",
            "Requirement already satisfied: protobuf!=4.21.0,!=4.21.1,!=4.21.2,!=4.21.3,!=4.21.4,!=4.21.5,<6.0.0dev,>=3.20.3 in /usr/local/lib/python3.11/dist-packages (from tensorflow) (3.20.3)\n",
            "Requirement already satisfied: requests<3,>=2.21.0 in /usr/local/lib/python3.11/dist-packages (from tensorflow) (2.32.3)\n",
            "Requirement already satisfied: setuptools in /usr/local/lib/python3.11/dist-packages (from tensorflow) (75.2.0)\n",
            "Requirement already satisfied: six>=1.12.0 in /usr/local/lib/python3.11/dist-packages (from tensorflow) (1.17.0)\n",
            "Requirement already satisfied: termcolor>=1.1.0 in /usr/local/lib/python3.11/dist-packages (from tensorflow) (3.1.0)\n",
            "Requirement already satisfied: typing-extensions>=3.6.6 in /usr/local/lib/python3.11/dist-packages (from tensorflow) (4.14.0)\n",
            "Requirement already satisfied: wrapt>=1.11.0 in /usr/local/lib/python3.11/dist-packages (from tensorflow) (1.17.2)\n",
            "Requirement already satisfied: grpcio<2.0,>=1.24.3 in /usr/local/lib/python3.11/dist-packages (from tensorflow) (1.73.0)\n",
            "Requirement already satisfied: tensorboard<2.19,>=2.18 in /usr/local/lib/python3.11/dist-packages (from tensorflow) (2.18.0)\n",
            "Requirement already satisfied: keras>=3.5.0 in /usr/local/lib/python3.11/dist-packages (from tensorflow) (3.8.0)\n",
            "Requirement already satisfied: numpy<2.1.0,>=1.26.0 in /usr/local/lib/python3.11/dist-packages (from tensorflow) (2.0.2)\n",
            "Requirement already satisfied: h5py>=3.11.0 in /usr/local/lib/python3.11/dist-packages (from tensorflow) (3.14.0)\n",
            "Requirement already satisfied: ml-dtypes<0.5.0,>=0.4.0 in /usr/local/lib/python3.11/dist-packages (from tensorflow) (0.4.1)\n",
            "Requirement already satisfied: tensorflow-io-gcs-filesystem>=0.23.1 in /usr/local/lib/python3.11/dist-packages (from tensorflow) (0.37.1)\n",
            "Requirement already satisfied: wheel<1.0,>=0.23.0 in /usr/local/lib/python3.11/dist-packages (from astunparse>=1.6.0->tensorflow) (0.45.1)\n",
            "Requirement already satisfied: rich in /usr/local/lib/python3.11/dist-packages (from keras>=3.5.0->tensorflow) (13.9.4)\n",
            "Requirement already satisfied: namex in /usr/local/lib/python3.11/dist-packages (from keras>=3.5.0->tensorflow) (0.1.0)\n",
            "Requirement already satisfied: optree in /usr/local/lib/python3.11/dist-packages (from keras>=3.5.0->tensorflow) (0.16.0)\n",
            "Requirement already satisfied: charset-normalizer<4,>=2 in /usr/local/lib/python3.11/dist-packages (from requests<3,>=2.21.0->tensorflow) (3.4.2)\n",
            "Requirement already satisfied: idna<4,>=2.5 in /usr/local/lib/python3.11/dist-packages (from requests<3,>=2.21.0->tensorflow) (3.10)\n",
            "Requirement already satisfied: urllib3<3,>=1.21.1 in /usr/local/lib/python3.11/dist-packages (from requests<3,>=2.21.0->tensorflow) (2.4.0)\n",
            "Requirement already satisfied: certifi>=2017.4.17 in /usr/local/lib/python3.11/dist-packages (from requests<3,>=2.21.0->tensorflow) (2025.6.15)\n",
            "Requirement already satisfied: markdown>=2.6.8 in /usr/local/lib/python3.11/dist-packages (from tensorboard<2.19,>=2.18->tensorflow) (3.8)\n",
            "Requirement already satisfied: tensorboard-data-server<0.8.0,>=0.7.0 in /usr/local/lib/python3.11/dist-packages (from tensorboard<2.19,>=2.18->tensorflow) (0.7.2)\n",
            "Requirement already satisfied: werkzeug>=1.0.1 in /usr/local/lib/python3.11/dist-packages (from tensorboard<2.19,>=2.18->tensorflow) (3.1.3)\n",
            "Requirement already satisfied: MarkupSafe>=2.1.1 in /usr/local/lib/python3.11/dist-packages (from werkzeug>=1.0.1->tensorboard<2.19,>=2.18->tensorflow) (3.0.2)\n",
            "Requirement already satisfied: markdown-it-py>=2.2.0 in /usr/local/lib/python3.11/dist-packages (from rich->keras>=3.5.0->tensorflow) (3.0.0)\n",
            "Requirement already satisfied: pygments<3.0.0,>=2.13.0 in /usr/local/lib/python3.11/dist-packages (from rich->keras>=3.5.0->tensorflow) (2.19.1)\n",
            "Requirement already satisfied: mdurl~=0.1 in /usr/local/lib/python3.11/dist-packages (from markdown-it-py>=2.2.0->rich->keras>=3.5.0->tensorflow) (0.1.2)\n"
          ]
        }
      ],
      "source": [
        "!pip install tensorflow"
      ]
    },
    {
      "cell_type": "code",
      "execution_count": 7,
      "metadata": {
        "id": "9VPv4dg6es9-"
      },
      "outputs": [],
      "source": [
        "from tensorflow.keras.layers import Conv2D, Flatten, Dense, MaxPool2D, BatchNormalization, GlobalAveragePooling2D\n",
        "from tensorflow.keras.applications.resnet50 import preprocess_input, decode_predictions\n",
        "from tensorflow.keras.preprocessing.image import ImageDataGenerator, load_img\n",
        "from tensorflow.keras.applications.resnet50 import ResNet50\n",
        "from tensorflow.keras.preprocessing import image\n",
        "from tensorflow.keras.models import Sequential\n",
        "from tensorflow.keras.models import Model\n",
        "\n",
        "import matplotlib.pyplot as plt\n",
        "import numpy as np"
      ]
    },
    {
      "cell_type": "code",
      "execution_count": 8,
      "metadata": {
        "id": "qp2aNyP-exLm"
      },
      "outputs": [],
      "source": [
        "mg_height, img_width = (224,224)\n",
        "batch_size = 16\n",
        "\n",
        "train_data_dir = r\"/content/split_dataset/train\"\n",
        "valid_data_dir = r\"/content/split_dataset/val\"\n",
        "test_data_dir = r\"/content/split_dataset/test\"\n"
      ]
    },
    {
      "cell_type": "code",
      "execution_count": 9,
      "metadata": {
        "colab": {
          "base_uri": "https://localhost:8080/"
        },
        "id": "QGJoQRk4fCHI",
        "outputId": "bf78d118-3998-4ad5-af4d-9326f2589bfb"
      },
      "outputs": [
        {
          "name": "stdout",
          "output_type": "stream",
          "text": [
            " Number of training images: 2151\n",
            " Number of validation images: 1018\n",
            " Number of test images: 936\n"
          ]
        }
      ],
      "source": [
        "import os\n",
        "\n",
        "def count_images_in_directory(directory):\n",
        "    total = 0\n",
        "    for root, dirs, files in os.walk(directory):\n",
        "        for file in files:\n",
        "            if file.lower().endswith(('.png', '.jpg', '.jpeg', '.bmp', '.tiff')):\n",
        "                total += 1\n",
        "    return total\n",
        "\n",
        "\n",
        "\n",
        "# Count and print\n",
        "print(f\" Number of training images: {count_images_in_directory(train_data_dir)}\")\n",
        "print(f\" Number of validation images: {count_images_in_directory(valid_data_dir)}\")\n",
        "print(f\" Number of test images: {count_images_in_directory(test_data_dir)}\")\n"
      ]
    },
    {
      "cell_type": "code",
      "execution_count": 10,
      "metadata": {
        "colab": {
          "base_uri": "https://localhost:8080/"
        },
        "id": "ZdbgavDygyp0",
        "outputId": "e763aae6-eb31-4fed-e5dd-2af64c73b238"
      },
      "outputs": [
        {
          "name": "stdout",
          "output_type": "stream",
          "text": [
            "Found 2151 images belonging to 240 classes.\n",
            "Found 1018 images belonging to 240 classes.\n"
          ]
        }
      ],
      "source": [
        "train_datagen = ImageDataGenerator(dtype = 'float32', preprocessing_function=preprocess_input)\n",
        "valid_datagen = ImageDataGenerator(dtype = 'float32', preprocessing_function=preprocess_input)\n",
        "\n",
        "train_generator = train_datagen.flow_from_directory(\n",
        "    train_data_dir,\n",
        "    target_size=(256, 256),\n",
        "    batch_size=16,\n",
        "    class_mode='categorical') # set as training data\n",
        "\n",
        "valid_generator = valid_datagen.flow_from_directory(\n",
        "    valid_data_dir,\n",
        "    target_size=(256, 256),\n",
        "    batch_size=16,\n",
        "    class_mode='categorical') # set as validation data"
      ]
    },
    {
      "cell_type": "code",
      "execution_count": 11,
      "metadata": {
        "colab": {
          "base_uri": "https://localhost:8080/"
        },
        "id": "e8jRXKa8f2PZ",
        "outputId": "ecb34003-bcab-4c52-adf3-5ea93b8381ec"
      },
      "outputs": [
        {
          "name": "stdout",
          "output_type": "stream",
          "text": [
            "Found 936 images belonging to 240 classes.\n"
          ]
        }
      ],
      "source": [
        "from tensorflow.keras.preprocessing.image import ImageDataGenerator\n",
        "from tensorflow.keras.applications.resnet50 import preprocess_input  # or use VGG16's preprocess_input\n",
        "\n",
        "# Define test image data generator\n",
        "test_datagen = ImageDataGenerator(\n",
        "    preprocessing_function=preprocess_input\n",
        ")\n",
        "\n",
        "# Then use it here\n",
        "test_generator = test_datagen.flow_from_directory(\n",
        "    \"/content/split_dataset/test\",\n",
        "    target_size=(256, 256),\n",
        "    batch_size=16,\n",
        "    class_mode='categorical',\n",
        "    shuffle=False\n",
        ")"
      ]
    },
    {
      "cell_type": "code",
      "execution_count": 12,
      "metadata": {
        "colab": {
          "base_uri": "https://localhost:8080/"
        },
        "id": "4k7WVbwvfJhJ",
        "outputId": "b0b8e9ee-21b1-44de-bd98-1c8a7c37f211"
      },
      "outputs": [
        {
          "data": {
            "text/plain": [
              "(16, 256, 256, 3)"
            ]
          },
          "execution_count": 12,
          "metadata": {},
          "output_type": "execute_result"
        }
      ],
      "source": [
        "x, y = next(test_generator)\n",
        "x.shape"
      ]
    },
    {
      "cell_type": "code",
      "execution_count": 13,
      "metadata": {
        "colab": {
          "base_uri": "https://localhost:8080/"
        },
        "id": "rDEYmLQ-nGT3",
        "outputId": "a0c081c2-3225-4c75-f750-45677db17a7d"
      },
      "outputs": [
        {
          "name": "stdout",
          "output_type": "stream",
          "text": [
            "Downloading data from https://storage.googleapis.com/tensorflow/keras-applications/resnet/resnet50_weights_tf_dim_ordering_tf_kernels_notop.h5\n",
            "\u001b[1m94765736/94765736\u001b[0m \u001b[32m━━━━━━━━━━━━━━━━━━━━\u001b[0m\u001b[37m\u001b[0m \u001b[1m0s\u001b[0m 0us/step\n",
            "Epoch 1/20\n"
          ]
        },
        {
          "name": "stderr",
          "output_type": "stream",
          "text": [
            "/usr/local/lib/python3.11/dist-packages/keras/src/trainers/data_adapters/py_dataset_adapter.py:121: UserWarning: Your `PyDataset` class should call `super().__init__(**kwargs)` in its constructor. `**kwargs` can include `workers`, `use_multiprocessing`, `max_queue_size`. Do not pass these arguments to `fit()`, as they will be ignored.\n",
            "  self._warn_if_super_not_called()\n"
          ]
        },
        {
          "name": "stdout",
          "output_type": "stream",
          "text": [
            "\u001b[1m135/135\u001b[0m \u001b[32m━━━━━━━━━━━━━━━━━━━━\u001b[0m\u001b[37m\u001b[0m \u001b[1m34s\u001b[0m 156ms/step - accuracy: 0.0605 - loss: 5.3672 - val_accuracy: 0.3261 - val_loss: 3.6617\n",
            "Epoch 2/20\n",
            "\u001b[1m135/135\u001b[0m \u001b[32m━━━━━━━━━━━━━━━━━━━━\u001b[0m\u001b[37m\u001b[0m \u001b[1m11s\u001b[0m 78ms/step - accuracy: 0.3648 - loss: 3.3821 - val_accuracy: 0.6523 - val_loss: 2.1798\n",
            "Epoch 3/20\n",
            "\u001b[1m135/135\u001b[0m \u001b[32m━━━━━━━━━━━━━━━━━━━━\u001b[0m\u001b[37m\u001b[0m \u001b[1m11s\u001b[0m 78ms/step - accuracy: 0.6875 - loss: 1.8887 - val_accuracy: 0.8301 - val_loss: 1.2611\n",
            "Epoch 4/20\n",
            "\u001b[1m135/135\u001b[0m \u001b[32m━━━━━━━━━━━━━━━━━━━━\u001b[0m\u001b[37m\u001b[0m \u001b[1m11s\u001b[0m 79ms/step - accuracy: 0.8538 - loss: 1.1041 - val_accuracy: 0.9194 - val_loss: 0.7310\n",
            "Epoch 5/20\n",
            "\u001b[1m135/135\u001b[0m \u001b[32m━━━━━━━━━━━━━━━━━━━━\u001b[0m\u001b[37m\u001b[0m \u001b[1m11s\u001b[0m 79ms/step - accuracy: 0.9270 - loss: 0.6301 - val_accuracy: 0.9371 - val_loss: 0.5185\n",
            "Epoch 6/20\n",
            "\u001b[1m135/135\u001b[0m \u001b[32m━━━━━━━━━━━━━━━━━━━━\u001b[0m\u001b[37m\u001b[0m \u001b[1m11s\u001b[0m 79ms/step - accuracy: 0.9609 - loss: 0.4006 - val_accuracy: 0.9676 - val_loss: 0.3670\n",
            "Epoch 7/20\n",
            "\u001b[1m135/135\u001b[0m \u001b[32m━━━━━━━━━━━━━━━━━━━━\u001b[0m\u001b[37m\u001b[0m \u001b[1m11s\u001b[0m 80ms/step - accuracy: 0.9901 - loss: 0.2413 - val_accuracy: 0.9764 - val_loss: 0.2778\n",
            "Epoch 8/20\n",
            "\u001b[1m135/135\u001b[0m \u001b[32m━━━━━━━━━━━━━━━━━━━━\u001b[0m\u001b[37m\u001b[0m \u001b[1m11s\u001b[0m 80ms/step - accuracy: 0.9946 - loss: 0.1619 - val_accuracy: 0.9764 - val_loss: 0.2259\n",
            "Epoch 9/20\n",
            "\u001b[1m135/135\u001b[0m \u001b[32m━━━━━━━━━━━━━━━━━━━━\u001b[0m\u001b[37m\u001b[0m \u001b[1m11s\u001b[0m 81ms/step - accuracy: 0.9984 - loss: 0.1147 - val_accuracy: 0.9843 - val_loss: 0.1788\n",
            "Epoch 10/20\n",
            "\u001b[1m135/135\u001b[0m \u001b[32m━━━━━━━━━━━━━━━━━━━━\u001b[0m\u001b[37m\u001b[0m \u001b[1m11s\u001b[0m 81ms/step - accuracy: 1.0000 - loss: 0.0805 - val_accuracy: 0.9833 - val_loss: 0.1570\n",
            "Epoch 11/20\n",
            "\u001b[1m135/135\u001b[0m \u001b[32m━━━━━━━━━━━━━━━━━━━━\u001b[0m\u001b[37m\u001b[0m \u001b[1m11s\u001b[0m 81ms/step - accuracy: 1.0000 - loss: 0.0647 - val_accuracy: 0.9882 - val_loss: 0.1321\n",
            "Epoch 12/20\n",
            "\u001b[1m135/135\u001b[0m \u001b[32m━━━━━━━━━━━━━━━━━━━━\u001b[0m\u001b[37m\u001b[0m \u001b[1m11s\u001b[0m 81ms/step - accuracy: 0.9996 - loss: 0.0496 - val_accuracy: 0.9853 - val_loss: 0.1202\n",
            "Epoch 13/20\n",
            "\u001b[1m135/135\u001b[0m \u001b[32m━━━━━━━━━━━━━━━━━━━━\u001b[0m\u001b[37m\u001b[0m \u001b[1m13s\u001b[0m 94ms/step - accuracy: 1.0000 - loss: 0.0425 - val_accuracy: 0.9862 - val_loss: 0.1085\n",
            "Epoch 14/20\n",
            "\u001b[1m135/135\u001b[0m \u001b[32m━━━━━━━━━━━━━━━━━━━━\u001b[0m\u001b[37m\u001b[0m \u001b[1m11s\u001b[0m 81ms/step - accuracy: 1.0000 - loss: 0.0335 - val_accuracy: 0.9882 - val_loss: 0.1005\n",
            "Epoch 15/20\n",
            "\u001b[1m135/135\u001b[0m \u001b[32m━━━━━━━━━━━━━━━━━━━━\u001b[0m\u001b[37m\u001b[0m \u001b[1m12s\u001b[0m 92ms/step - accuracy: 1.0000 - loss: 0.0274 - val_accuracy: 0.9892 - val_loss: 0.0911\n",
            "Epoch 16/20\n",
            "\u001b[1m135/135\u001b[0m \u001b[32m━━━━━━━━━━━━━━━━━━━━\u001b[0m\u001b[37m\u001b[0m \u001b[1m11s\u001b[0m 81ms/step - accuracy: 1.0000 - loss: 0.0236 - val_accuracy: 0.9882 - val_loss: 0.0884\n",
            "Epoch 17/20\n",
            "\u001b[1m135/135\u001b[0m \u001b[32m━━━━━━━━━━━━━━━━━━━━\u001b[0m\u001b[37m\u001b[0m \u001b[1m11s\u001b[0m 81ms/step - accuracy: 1.0000 - loss: 0.0214 - val_accuracy: 0.9902 - val_loss: 0.0811\n",
            "Epoch 18/20\n",
            "\u001b[1m135/135\u001b[0m \u001b[32m━━━━━━━━━━━━━━━━━━━━\u001b[0m\u001b[37m\u001b[0m \u001b[1m11s\u001b[0m 80ms/step - accuracy: 1.0000 - loss: 0.0175 - val_accuracy: 0.9902 - val_loss: 0.0766\n",
            "Epoch 19/20\n",
            "\u001b[1m135/135\u001b[0m \u001b[32m━━━━━━━━━━━━━━━━━━━━\u001b[0m\u001b[37m\u001b[0m \u001b[1m11s\u001b[0m 80ms/step - accuracy: 1.0000 - loss: 0.0164 - val_accuracy: 0.9941 - val_loss: 0.0707\n",
            "Epoch 20/20\n",
            "\u001b[1m135/135\u001b[0m \u001b[32m━━━━━━━━━━━━━━━━━━━━\u001b[0m\u001b[37m\u001b[0m \u001b[1m11s\u001b[0m 81ms/step - accuracy: 1.0000 - loss: 0.0144 - val_accuracy: 0.9912 - val_loss: 0.0697\n"
          ]
        }
      ],
      "source": [
        "from tensorflow.keras.optimizers import Adam\n",
        "\n",
        "base_model = ResNet50(include_top=False, weights='imagenet')\n",
        "x = base_model.output\n",
        "#Removes the original classifier (1000-class softmax), leaving just the convolutional base.\n",
        "x = GlobalAveragePooling2D()(x)\n",
        "#Add your own classifer on top,GlobalAveragePooling → flattens feature maps into 1 vector per channel\n",
        "x = Dense(1024, activation='relu')(x)\n",
        "#Dense(num_classes, softmax) → predicts your own classes, not ImageNet’s 1000\n",
        "predictions = Dense(train_generator.num_classes, activation='softmax')(x)\n",
        "model = Model(inputs=base_model.input, outputs=predictions)\n",
        "\n",
        "for layer in base_model.layers:\n",
        "    layer.trainable = False\n",
        "\n",
        "# Create an instance of the Adam optimizer with a specific learning rate (e.g., 0.0002)\n",
        "custom_optimizer = Adam(learning_rate=0.0002)\n",
        "\n",
        "model.compile(optimizer=custom_optimizer, loss='categorical_crossentropy', metrics=['accuracy'])\n",
        "\n",
        "history = model.fit(\n",
        "    train_generator,\n",
        "    validation_data=valid_generator,\n",
        "    epochs=20  # or your desired number of epochs\n",
        ")"
      ]
    },
    {
      "cell_type": "code",
      "execution_count": 14,
      "metadata": {
        "colab": {
          "base_uri": "https://localhost:8080/"
        },
        "id": "QSpxuL4bG0Y2",
        "outputId": "ccbfcd68-097b-48db-a720-c14004c6dd9a"
      },
      "outputs": [
        {
          "name": "stdout",
          "output_type": "stream",
          "text": [
            "59/59 - 6s - 107ms/step - accuracy: 0.9818 - loss: 0.1458\n",
            "\n",
            "Test accuracy: 0.9818376302719116\n"
          ]
        }
      ],
      "source": [
        "test_loss, test_acc = model.evaluate(test_generator, verbose=2)\n",
        "print(\"\\nTest accuracy:\", test_acc)"
      ]
    },
    {
      "cell_type": "code",
      "execution_count": 15,
      "metadata": {
        "id": "usqQvsbYHCY4"
      },
      "outputs": [],
      "source": [
        "!mkdir -p /content/drive/MyDrive/Iris_Model1"
      ]
    },
    {
      "cell_type": "code",
      "execution_count": 16,
      "metadata": {
        "colab": {
          "base_uri": "https://localhost:8080/"
        },
        "id": "fXtW1KUvHIXA",
        "outputId": "733b4a6c-1a72-4b48-f357-f2eed02b23e7"
      },
      "outputs": [
        {
          "name": "stderr",
          "output_type": "stream",
          "text": [
            "WARNING:absl:You are saving your model as an HDF5 file via `model.save()` or `keras.saving.save_model(model)`. This file format is considered legacy. We recommend using instead the native Keras format, e.g. `model.save('my_model.keras')` or `keras.saving.save_model(model, 'my_model.keras')`. \n"
          ]
        }
      ],
      "source": [
        "model.save('/content/drive/MyDrive/Iris_Model1/ResNet50_Iris3.h5')"
      ]
    },
    {
      "cell_type": "code",
      "execution_count": null,
      "metadata": {
        "colab": {
          "base_uri": "https://localhost:8080/"
        },
        "id": "eBdFjeRBhK30",
        "outputId": "a3d7b7aa-86bf-405b-b6ee-dd88444591e8"
      },
      "outputs": [
        {
          "name": "stderr",
          "output_type": "stream",
          "text": [
            "WARNING:absl:Compiled the loaded model, but the compiled metrics have yet to be built. `model.compile_metrics` will be empty until you train or evaluate the model.\n"
          ]
        },
        {
          "name": "stdout",
          "output_type": "stream",
          "text": [
            "Model loaded successfully\n",
            "Found 936 images belonging to 240 classes.\n"
          ]
        },
        {
          "name": "stderr",
          "output_type": "stream",
          "text": [
            "/usr/local/lib/python3.11/dist-packages/keras/src/trainers/data_adapters/py_dataset_adapter.py:121: UserWarning: Your `PyDataset` class should call `super().__init__(**kwargs)` in its constructor. `**kwargs` can include `workers`, `use_multiprocessing`, `max_queue_size`. Do not pass these arguments to `fit()`, as they will be ignored.\n",
            "  self._warn_if_super_not_called()\n"
          ]
        },
        {
          "name": "stdout",
          "output_type": "stream",
          "text": [
            "Found 936 images belonging to 240 classes.\n",
            "Class indices: {'001': 0, '002': 1, '003': 2, '004': 3, '005': 4, '006': 5, '007': 6, '008': 7, '009': 8, '010': 9, '011': 10, '012': 11, '013': 12, '014': 13, '015': 14, '016': 15, '017': 16, '018': 17, '019': 18, '020': 19, '021': 20, '022': 21, '023': 22, '024': 23, '025': 24, '026': 25, '027': 26, '028': 27, '029': 28, '030': 29, '031': 30, '032': 31, '033': 32, '034': 33, '035': 34, '036': 35, '037': 36, '038': 37, '039': 38, '040': 39, '041': 40, '042': 41, '043': 42, '044': 43, '045': 44, '046': 45, '047': 46, '048': 47, '049': 48, '050': 49, '051': 50, '052': 51, '053': 52, '054': 53, '055': 54, '056': 55, '057': 56, '058': 57, '059': 58, '060': 59, '061': 60, '062': 61, '063': 62, '064': 63, '065': 64, '066': 65, '067': 66, '068': 67, '069': 68, '070': 69, '071': 70, '072': 71, '073': 72, '074': 73, '075': 74, '076': 75, '077': 76, '078': 77, '079': 78, '080': 79, '081': 80, '082': 81, '083': 82, '084': 83, '085': 84, '086': 85, '087': 86, '088': 87, '089': 88, '090': 89, '091': 90, '092': 91, '093': 92, '094': 93, '095': 94, '096': 95, '097': 96, '098': 97, '099': 98, '100': 99, '101': 100, '102': 101, '103': 102, '104': 103, '105': 104, '106': 105, '107': 106, '108': 107, '109': 108, '110': 109, '111': 110, '112': 111, '113': 112, '114': 113, '115': 114, '116': 115, '117': 116, '118': 117, '119': 118, '120': 119, '121': 120, '122': 121, '123': 122, '124': 123, '125': 124, '126': 125, '127': 126, '128': 127, '129': 128, '130': 129, '131': 130, '132': 131, '133': 132, '134': 133, '135': 134, '136': 135, '137': 136, '138': 137, '139': 138, '140': 139, '141': 140, '142': 141, '143': 142, '144': 143, '145': 144, '146': 145, '147': 146, '148': 147, '149': 148, '150': 149, '151': 150, '152': 151, '153': 152, '154': 153, '155': 154, '156': 155, '157': 156, '158': 157, '159': 158, '160': 159, '161': 160, '162': 161, '163': 162, '164': 163, '165': 164, '166': 165, '167': 166, '168': 167, '169': 168, '170': 169, '171': 170, '172': 171, '173': 172, '174': 173, '175': 174, '176': 175, '177': 176, '178': 177, '179': 178, '180': 179, '181': 180, '182': 181, '183': 182, '184': 183, '185': 184, '186': 185, '187': 186, '188': 187, '189': 188, '190': 189, '191': 190, '192': 191, '193': 192, '194': 193, '195': 194, '196': 195, '197': 196, '198': 197, '199': 198, '200': 199, '201': 200, '202': 201, '203': 202, '204': 203, '205': 204, '206': 205, '207': 206, '208': 207, '209': 208, '210': 209, '211': 210, '212': 211, '213': 212, '214': 213, '215': 214, '216': 215, '217': 216, '218': 217, '219': 218, '220': 219, '221': 220, '222': 221, '223': 222, '224': 223, '225': 224, '226': 225, '227': 226, '228': 227, '229': 228, '230': 229, '231': 230, '232': 231, '233': 232, '234': 233, '235': 234, '236': 235, '237': 236, '238': 237, '239': 238, '240': 239}\n",
            "59/59 - 10s - 169ms/step - accuracy: 0.9818 - loss: 0.1458\n",
            "\n",
            "Test accuracy: 0.9818\n",
            "Test loss: 0.1458\n",
            "\u001b[1m58/58\u001b[0m \u001b[32m━━━━━━━━━━━━━━━━━━━━\u001b[0m\u001b[37m\u001b[0m \u001b[1m7s\u001b[0m 64ms/step\n",
            "Number of true classes: 936\n",
            "Number of predicted classes: 928\n",
            "Sample predictions: [0 0 0 0 0 0 1 1 1 1]\n",
            "Sample true classes: [0 0 0 0 0 0 1 1 1 1]\n",
            "Max prediction value: 0.9999542236328125\n",
            "Min prediction value: 6.481472289588265e-17\n",
            "Warning: Mismatch in lengths - True: 936, Predicted: 928\n",
            "Confusion matrix shape: (236, 236)\n",
            "Confusion matrix content:\n",
            "[[6 0 0 ... 0 0 0]\n",
            " [0 6 0 ... 0 0 0]\n",
            " [0 0 4 ... 0 0 0]\n",
            " ...\n",
            " [0 0 0 ... 1 0 0]\n",
            " [0 0 0 ... 0 4 0]\n",
            " [0 0 0 ... 0 0 2]]\n",
            "\n",
            "Classification Report:\n",
            "An unexpected error occurred: Number of classes, 236, does not match size of target_names, 240. Try specifying the labels parameter\n"
          ]
        }
      ],
      "source": [
        "import tensorflow as tf\n",
        "from tensorflow.keras.preprocessing.image import ImageDataGenerator\n",
        "from tensorflow.keras.applications.resnet50 import preprocess_input\n",
        "from tensorflow.keras.models import load_model\n",
        "import matplotlib.pyplot as plt\n",
        "import numpy as np\n",
        "from sklearn.metrics import confusion_matrix, classification_report, precision_score, f1_score, recall_score\n",
        "import seaborn as sns\n",
        "from tqdm import tqdm\n",
        "import os\n",
        "import datetime\n",
        "\n",
        "def evaluate_model(model_path, test_dir, target_size=(256, 256), output_dir=\"evaluation_results\"):\n",
        "    \"\"\"\n",
        "    Evaluate a trained model on test data with comprehensive metrics and visualizations.\n",
        "    Includes detailed debugging for confusion matrix issues.\n",
        "    \"\"\"\n",
        "    try:\n",
        "        # Create output directory\n",
        "        if not os.path.exists(output_dir):\n",
        "            os.makedirs(output_dir)\n",
        "\n",
        "        # Load model\n",
        "        try:\n",
        "            model = load_model(model_path)\n",
        "            print(\"Model loaded successfully\")\n",
        "        except Exception as e:\n",
        "            print(f\"Error loading model: {str(e)}\")\n",
        "            return\n",
        "\n",
        "        # Create test data generator with consistent target size\n",
        "        test_datagen = ImageDataGenerator(preprocessing_function=preprocess_input)\n",
        "        test_generator = test_datagen.flow_from_directory(\n",
        "            test_dir,\n",
        "            target_size=target_size,\n",
        "            batch_size=16,\n",
        "            class_mode='categorical',\n",
        "            shuffle=False\n",
        "        )\n",
        "        print(f\"Found {test_generator.samples} images belonging to {len(test_generator.class_indices)} classes.\")\n",
        "\n",
        "        # Create index-to-class mapping\n",
        "        class_indices = test_generator.class_indices\n",
        "        index_to_class = {v: k for k, v in class_indices.items()}\n",
        "        class_labels = list(class_indices.keys())\n",
        "        print(f\"Class indices: {class_indices}\")\n",
        "\n",
        "        # Evaluate model to get a baseline\n",
        "        test_loss, test_acc = model.evaluate(test_generator, verbose=2)\n",
        "        print(f\"\\nTest accuracy: {test_acc:.4f}\")\n",
        "        print(f\"Test loss: {test_loss:.4f}\")\n",
        "\n",
        "        # Make predictions with explicit steps\n",
        "        test_generator.reset()\n",
        "        num_samples = test_generator.samples\n",
        "        predictions = model.predict(test_generator, steps=int(num_samples / test_generator.batch_size), verbose=1)\n",
        "        predicted_classes = np.argmax(predictions[:num_samples], axis=1)  # Ensure length matches\n",
        "        true_classes = test_generator.classes[:num_samples]\n",
        "\n",
        "        # Debugging prints\n",
        "        print(f\"Number of true classes: {len(true_classes)}\")\n",
        "        print(f\"Number of predicted classes: {len(predicted_classes)}\")\n",
        "        print(f\"Sample predictions: {predicted_classes[:10]}\")\n",
        "        print(f\"Sample true classes: {true_classes[:10]}\")\n",
        "        print(f\"Max prediction value: {np.max(predictions)}\")\n",
        "        print(f\"Min prediction value: {np.min(predictions)}\")\n",
        "\n",
        "        # Verify and adjust lengths\n",
        "        if len(true_classes) != len(predicted_classes):\n",
        "            print(f\"Warning: Mismatch in lengths - True: {len(true_classes)}, Predicted: {len(predicted_classes)}\")\n",
        "            min_length = min(len(true_classes), len(predicted_classes))\n",
        "            true_classes = true_classes[:min_length]\n",
        "            predicted_classes = predicted_classes[:min_length]\n",
        "        else:\n",
        "            print(\"Lengths match successfully\")\n",
        "\n",
        "        # Calculate confusion matrix\n",
        "        cm = confusion_matrix(true_classes, predicted_classes)\n",
        "        print(f\"Confusion matrix shape: {cm.shape}\")\n",
        "        print(f\"Confusion matrix content:\\n{cm}\")\n",
        "\n",
        "        # Plot full confusion matrix for first 10 classes\n",
        "        plt.figure(figsize=(12, 10))\n",
        "        sns.heatmap(cm[:10, :10], annot=True, fmt='d', cmap='Blues',  # Limit to 10x10 for readability\n",
        "                    xticklabels=class_labels[:10],\n",
        "                    yticklabels=class_labels[:10])\n",
        "        plt.title('Confusion Matrix (First 10 Classes)')\n",
        "        plt.ylabel('True Label')\n",
        "        plt.xlabel('Predicted Label')\n",
        "        plt.savefig(os.path.join(output_dir, 'confusion_matrix.png'))\n",
        "        plt.close()\n",
        "\n",
        "        macro_precision = precision_score(true_classes, predicted_classes, average=\"macro\", zero_division=0)  \n",
        "        macro_recall    = recall_score   (true_classes, predicted_classes, average=\"macro\", zero_division=0)  \n",
        "        macro_f1        = f1_score       (true_classes, predicted_classes, average=\"macro\", zero_division=0) \n",
        "\n",
        "        # Calculate and save classification report\n",
        "        print(\"\\nClassification Report:\")\n",
        "        print(classification_report(true_classes, predicted_classes, target_names=class_labels, zero_division=0))\n",
        "        with open(os.path.join(output_dir, 'classification_report.txt'), 'w') as f:\n",
        "            f.write(classification_report(true_classes, predicted_classes, target_names=class_labels, zero_division=0))\n",
        "\n",
        "        # Save overall metrics\n",
        "        accuracy = np.mean(predicted_classes == true_classes)\n",
        "        metrics = {\n",
        "            'test_accuracy': test_acc,\n",
        "            'test_loss': test_loss,\n",
        "            'overall_accuracy': accuracy,\n",
        "            'timestamp': datetime.datetime.now().strftime(\"%Y-%m-%d %H:%M:%S\")\n",
        "        }\n",
        "        with open(os.path.join(output_dir, 'metrics.txt'), 'w') as f:\n",
        "            for key, value in metrics.items():\n",
        "                f.write(f\"{key}: {value}\\n\")\n",
        "\n",
        "        print(f\"\\nOverall Accuracy: {accuracy:.4f}\")\n",
        "        print(f\"Evaluation results saved in {output_dir}\")\n",
        "\n",
        "    except Exception as e:\n",
        "        print(f\"An unexpected error occurred: {str(e)}\")\n",
        "\n",
        "if __name__ == \"__main__\":\n",
        "    model_path = '/content/drive/MyDrive/Iris_Model1/ResNet50_Iris3.h5'\n",
        "    test_dir = \"/content/split_dataset/test\"\n",
        "    evaluate_model(model_path, test_dir, target_size=(256, 256))"
      ]
    },
    {
      "cell_type": "code",
      "execution_count": 20,
      "metadata": {
        "colab": {
          "base_uri": "https://localhost:8080/",
          "height": 1000
        },
        "id": "8SNrV42byFbL",
        "outputId": "7e0b142e-ced2-4f74-e2a8-d7fea966bbb7"
      },
      "outputs": [
        {
          "name": "stdout",
          "output_type": "stream",
          "text": [
            "    epoch  accuracy  val_accuracy      loss  val_loss  learning_rate\n",
            "0       1  0.103208      0.326130  4.945147  3.661691         0.0002\n",
            "1       2  0.421199      0.652259  3.095206  2.179755         0.0002\n",
            "2       3  0.713622      0.830059  1.722312  1.261125         0.0002\n",
            "3       4  0.872153      0.919450  0.971115  0.730969         0.0002\n",
            "4       5  0.934449      0.937132  0.577418  0.518474         0.0002\n",
            "5       6  0.964668      0.967583  0.371709  0.367019         0.0002\n",
            "6       7  0.987913      0.976424  0.232584  0.277831         0.0002\n",
            "7       8  0.995351      0.976424  0.159071  0.225888         0.0002\n",
            "8       9  0.998140      0.984283  0.110982  0.178813         0.0002\n",
            "9      10  1.000000      0.983301  0.082828  0.157013         0.0002\n",
            "10     11  1.000000      0.988212  0.063767  0.132091         0.0002\n",
            "11     12  0.999535      0.985265  0.050688  0.120234         0.0002\n",
            "12     13  1.000000      0.986248  0.041553  0.108539         0.0002\n",
            "13     14  1.000000      0.988212  0.033174  0.100461         0.0002\n",
            "14     15  1.000000      0.989195  0.027895  0.091074         0.0002\n",
            "15     16  1.000000      0.988212  0.024074  0.088430         0.0002\n",
            "16     17  1.000000      0.990177  0.021011  0.081144         0.0002\n",
            "17     18  1.000000      0.990177  0.018055  0.076605         0.0002\n",
            "18     19  1.000000      0.994106  0.015898  0.070650         0.0002\n",
            "19     20  1.000000      0.991159  0.014161  0.069732         0.0002\n"
          ]
        },
        {
          "data": {
            "image/png": "[encoded data removed]",
            "text/plain": [
              "<Figure size 1000x500 with 1 Axes>"
            ]
          },
          "metadata": {},
          "output_type": "display_data"
        },
        {
          "data": {
            "image/png": "[encoded data removed]",
            "text/plain": [
              "<Figure size 1000x500 with 1 Axes>"
            ]
          },
          "metadata": {},
          "output_type": "display_data"
        }
      ],
      "source": [
        "import pandas as pd\n",
        "import matplotlib.pyplot as plt\n",
        "import tensorflow as tf\n",
        "\n",
        "# Create a results dictionary from history object\n",
        "results = {\n",
        "    'epoch': list(range(1, len(history.history['accuracy']) + 1)),\n",
        "    'accuracy': history.history['accuracy'],\n",
        "    'val_accuracy': history.history['val_accuracy'],\n",
        "    'loss': history.history['loss'],\n",
        "    'val_loss': history.history['val_loss'],\n",
        "    'learning_rate': [float(tf.keras.backend.get_value(model.optimizer.learning_rate))] * len(history.history['accuracy'])\n",
        "}\n",
        "\n",
        "# Create a DataFrame\n",
        "results_df = pd.DataFrame(results)\n",
        "print(results_df)\n",
        "\n",
        "# Save to CSV (optional)\n",
        "results_df.to_csv(\"evaluation_results/training_metrics_table.csv\", index=False)\n",
        "\n",
        "# Plot Epoch vs. Loss\n",
        "plt.figure(figsize=(10, 5))\n",
        "plt.plot(results['epoch'], results['loss'], label='Training Loss')\n",
        "plt.plot(results['epoch'], results['val_loss'], label='Validation Loss')\n",
        "plt.xlabel('Epoch')\n",
        "plt.ylabel('Loss')\n",
        "plt.title('Epoch vs Loss')\n",
        "plt.legend()\n",
        "plt.grid(True)\n",
        "plt.savefig(\"evaluation_results/epoch_vs_loss.png\")\n",
        "plt.show()\n",
        "\n",
        "# Plot Epoch vs. Accuracy\n",
        "plt.figure(figsize=(10, 5))\n",
        "plt.plot(results['epoch'], results['accuracy'], label='Training Accuracy')\n",
        "plt.plot(results['epoch'], results['val_accuracy'], label='Validation Accuracy')\n",
        "plt.xlabel('Epoch')\n",
        "plt.ylabel('Accuracy')\n",
        "plt.title('Epoch vs Accuracy')\n",
        "plt.legend()\n",
        "plt.grid(True)\n",
        "plt.savefig(\"evaluation_results/epoch_vs_accuracy.png\")\n",
        "plt.show()"
      ]
    }
  ],
  "metadata": {
    "accelerator": "GPU",
    "colab": {
      "gpuType": "T4",
      "provenance": []
    },
    "kernelspec": {
      "display_name": "Python 3",
      "name": "python3"
    },
    "language_info": {
      "name": "python"
    }
  },
  "nbformat": 4,
  "nbformat_minor": 0
}
